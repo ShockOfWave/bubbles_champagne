{
 "cells": [
  {
   "cell_type": "markdown",
   "metadata": {},
   "source": [
    "# Пример инференса модели"
   ]
  },
  {
   "cell_type": "markdown",
   "metadata": {},
   "source": [
    "## Импорт необходимых библиотек"
   ]
  },
  {
   "cell_type": "code",
   "execution_count": null,
   "metadata": {},
   "outputs": [],
   "source": [
    "import sys\n",
    "import os\n",
    "import torch\n",
    "import numpy as np\n",
    "\n",
    "sys.path.append(os.path.abspath('..'))\n",
    "\n",
    "from src.model import VideoClassifier\n",
    "from src.utils.preprocess import preprocess_data, load_label_encoder\n",
    "\n",
    "device = torch.device(\"cuda\" if torch.cuda.is_available() else \"cpu\")\n",
    "print(f\"Using device: {device}\")\n"
   ]
  },
  {
   "cell_type": "markdown",
   "metadata": {},
   "source": [
    "## Загрузка модели и LabelEncoder"
   ]
  },
  {
   "cell_type": "code",
   "execution_count": null,
   "metadata": {},
   "outputs": [],
   "source": [
    "\n",
    "# Укажите путь к сохраненной модели и LabelEncoder\n",
    "model_path = '../src/saved_model'  \n",
    "encoder_path = '../src/label_encoder.pkl'  \n",
    "\n",
    "model = VideoClassifier()\n",
    "model.load_model(model_path)\n",
    "\n",
    "label_encoder = load_label_encoder(encoder_path)\n",
    "\n",
    "print(\"Model and LabelEncoder loaded successfully.\")"
   ]
  },
  {
   "cell_type": "markdown",
   "metadata": {},
   "source": [
    "## Загрузка тестовых данных"
   ]
  },
  {
   "cell_type": "code",
   "execution_count": null,
   "metadata": {},
   "outputs": [],
   "source": [
    "# Пример путей к тестовым изображениям\n",
    "test_paths = [\n",
    "    '../data/test/label1_label2_label3/image1.jpg',\n",
    "    '../data/test/label1_label2_label3/image2.jpg',\n",
    "    '../data/test/label1_label2_label3/image3.jpg'\n",
    "]\n",
    "\n",
    "# Укажите индекс лейбла, который нужно предсказывать\n",
    "label_index = 1  # Например, выбираем второй лейбл (label2)\n"
   ]
  },
  {
   "cell_type": "markdown",
   "metadata": {},
   "source": [
    "## Предобработка данных и инференс"
   ]
  },
  {
   "cell_type": "code",
   "execution_count": null,
   "metadata": {},
   "outputs": [],
   "source": [
    "X_test, y_test, _ = preprocess_data(test_paths, label_index, label_encoder=label_encoder)\n",
    "\n",
    "X_test_tensor = torch.tensor(X_test).to(device)\n",
    "\n",
    "y_pred = model.predict(X_test_tensor)\n",
    "\n",
    "decoded_labels = label_encoder.inverse_transform(y_pred)\n",
    "\n",
    "for path, label in zip(test_paths, decoded_labels):\n",
    "    print(f\"Image: {path} -> Predicted Label: {label}\")"
   ]
  },
  {
   "cell_type": "markdown",
   "metadata": {},
   "source": [
    "## Оценка точности"
   ]
  },
  {
   "cell_type": "code",
   "execution_count": null,
   "metadata": {},
   "outputs": [],
   "source": [
    "from sklearn.metrics import accuracy_score\n",
    "\n",
    "accuracy = accuracy_score(y_test, y_pred)\n",
    "print(f\"Test Accuracy: {accuracy:.4f}\")\n"
   ]
  }
 ],
 "metadata": {
  "kernelspec": {
   "display_name": "venv",
   "language": "python",
   "name": "python3"
  },
  "language_info": {
   "codemirror_mode": {
    "name": "ipython",
    "version": 3
   },
   "file_extension": ".py",
   "mimetype": "text/x-python",
   "name": "python",
   "nbconvert_exporter": "python",
   "pygments_lexer": "ipython3",
   "version": "3.12.4"
  }
 },
 "nbformat": 4,
 "nbformat_minor": 2
}
